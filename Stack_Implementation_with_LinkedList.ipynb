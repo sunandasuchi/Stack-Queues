{
  "nbformat": 4,
  "nbformat_minor": 0,
  "metadata": {
    "colab": {
      "name": "Stack_Implementation_with_LinkedList.ipynb",
      "provenance": []
    },
    "kernelspec": {
      "name": "python3",
      "display_name": "Python 3"
    }
  },
  "cells": [
    {
      "cell_type": "markdown",
      "metadata": {
        "id": "s6xM9T_TK6bF"
      },
      "source": [
        "### **Stack Implementation**"
      ]
    },
    {
      "cell_type": "code",
      "metadata": {
        "id": "2UWaCXLFKwVT"
      },
      "source": [
        "class Node:\r\n",
        "  def __init__(self, data):\r\n",
        "    self.data = data\r\n",
        "    self.next = None\r\n",
        "    "
      ],
      "execution_count": 1,
      "outputs": []
    },
    {
      "cell_type": "code",
      "metadata": {
        "id": "xe5lVfSDK_0i"
      },
      "source": [
        "class Stack:\r\n",
        "  def __init__(self):\r\n",
        "    self.top = None\r\n",
        "    self.bottom = None\r\n",
        "    self.length = 0\r\n",
        "\r\n",
        "  def push(self, data):\r\n",
        "    node1 = Node(data)\r\n",
        "    if self.top == None:\r\n",
        "      self.top = node1\r\n",
        "      self.bottom = self.top\r\n",
        "      self.length += 1\r\n",
        "      return\r\n",
        "    else:\r\n",
        "      node1.next = self.top\r\n",
        "      self.top = node1\r\n",
        "      self.length += 1\r\n",
        "      return\r\n",
        "  \r\n",
        "  def pop(self):\r\n",
        "    if self.top == None:\r\n",
        "      print(\"Empty Stack. Nothing to Pop\")\r\n",
        "      return\r\n",
        "    \r\n",
        "    else:\r\n",
        "      self.top = self.top.next\r\n",
        "      self.length -= 1\r\n",
        "      if self.length == 0:\r\n",
        "        self.bottom = None\r\n",
        "      return\r\n",
        "\r\n",
        "  def peek(self):\r\n",
        "    if self.length == 0:\r\n",
        "      print(\"Empty Stack\")\r\n",
        "      return\r\n",
        "    else:\r\n",
        "      return self.top.data\r\n",
        "\r\n",
        "  def printStack(self):\r\n",
        "    if self.length == 0:\r\n",
        "      print(\"Empty Stack\")\r\n",
        "      return\r\n",
        "    else:\r\n",
        "      current = self.top\r\n",
        "      while current != None:\r\n",
        "        print(current.data, end = \"   \")\r\n",
        "        current = current.next\r\n",
        "    print() "
      ],
      "execution_count": 8,
      "outputs": []
    },
    {
      "cell_type": "code",
      "metadata": {
        "colab": {
          "base_uri": "https://localhost:8080/"
        },
        "id": "Sm5l38lZK_2O",
        "outputId": "a46c76c5-7093-4d20-ad1e-a912c52cef46"
      },
      "source": [
        "mystack = Stack()\r\n",
        "mystack.push(\"Google\")\r\n",
        "mystack.push(\"Twitter\")\r\n",
        "mystack.push(\"Facebook\")\r\n",
        "\r\n",
        "mystack.printStack()\r\n"
      ],
      "execution_count": 17,
      "outputs": [
        {
          "output_type": "stream",
          "text": [
            "Facebook   Twitter   Google   \n"
          ],
          "name": "stdout"
        }
      ]
    },
    {
      "cell_type": "code",
      "metadata": {
        "colab": {
          "base_uri": "https://localhost:8080/"
        },
        "id": "1SF9fkvPK_6S",
        "outputId": "59005a11-1361-4899-bc75-c770415f7841"
      },
      "source": [
        "print(mystack.peek())\r\n",
        "\r\n"
      ],
      "execution_count": 18,
      "outputs": [
        {
          "output_type": "stream",
          "text": [
            "Facebook\n"
          ],
          "name": "stdout"
        }
      ]
    },
    {
      "cell_type": "code",
      "metadata": {
        "colab": {
          "base_uri": "https://localhost:8080/"
        },
        "id": "yhHQOanKRPWv",
        "outputId": "88658758-3d6a-4460-99af-4e061cf787f8"
      },
      "source": [
        "mystack.pop()\r\n",
        "\r\n",
        "mystack.printStack()"
      ],
      "execution_count": 19,
      "outputs": [
        {
          "output_type": "stream",
          "text": [
            "Twitter   Google   \n"
          ],
          "name": "stdout"
        }
      ]
    }
  ]
}