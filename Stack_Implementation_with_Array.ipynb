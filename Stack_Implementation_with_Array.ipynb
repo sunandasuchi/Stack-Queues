{
  "nbformat": 4,
  "nbformat_minor": 0,
  "metadata": {
    "colab": {
      "name": "Stack_Implementation_with_Array.ipynb",
      "provenance": [],
      "authorship_tag": "ABX9TyOx75cwFCHYg5KLBNWvJnab",
      "include_colab_link": true
    },
    "kernelspec": {
      "name": "python3",
      "display_name": "Python 3"
    }
  },
  "cells": [
    {
      "cell_type": "markdown",
      "metadata": {
        "id": "view-in-github",
        "colab_type": "text"
      },
      "source": [
        "<a href=\"https://colab.research.google.com/github/sunandasuchi/Stack-Queues/blob/main/Stack_Implementation_with_Array.ipynb\" target=\"_parent\"><img src=\"https://colab.research.google.com/assets/colab-badge.svg\" alt=\"Open In Colab\"/></a>"
      ]
    },
    {
      "cell_type": "markdown",
      "metadata": {
        "id": "OHyPrBDRSkUh"
      },
      "source": [
        "### **Stack Implementation with Array**"
      ]
    },
    {
      "cell_type": "code",
      "metadata": {
        "id": "yYCQqdDOSiBr"
      },
      "source": [
        "class Stack:\r\n",
        "  def __init__(self):\r\n",
        "      self.array = []\r\n",
        "\r\n",
        "  def push(self,data):\r\n",
        "    self.array.append(data)\r\n",
        "    return \r\n",
        "\r\n",
        "  def pop(self):\r\n",
        "    if len(self.array) == 0:\r\n",
        "      print(\"Empty Stack\")\r\n",
        "      return\r\n",
        "    else:\r\n",
        "      self.array.pop()\r\n",
        "      return \r\n",
        "\r\n",
        "  def peek(self):\r\n",
        "    return self.array[len(self.array)-1]\r\n",
        "\r\n",
        "  def printStack(self):\r\n",
        "    for i in range(len(self.array)-1, -1, -1):\r\n",
        "      print(self.array[i], end = \"    \")\r\n",
        "\r\n",
        "    print()\r\n"
      ],
      "execution_count": 9,
      "outputs": []
    },
    {
      "cell_type": "code",
      "metadata": {
        "id": "tQvqY2S6c-3I"
      },
      "source": [
        "mystack = Stack()\r\n",
        "mystack.push(\"Google\")\r\n",
        "mystack.push(\"Twitter\")\r\n",
        "mystack.push(\"Facebook\")\r\n",
        "\r\n"
      ],
      "execution_count": 16,
      "outputs": []
    },
    {
      "cell_type": "code",
      "metadata": {
        "colab": {
          "base_uri": "https://localhost:8080/"
        },
        "id": "lfMJqpPUdeQk",
        "outputId": "761cd143-3012-4827-dbfb-4a27faf8889f"
      },
      "source": [
        "mystack.printStack()"
      ],
      "execution_count": 17,
      "outputs": [
        {
          "output_type": "stream",
          "text": [
            "Facebook    Twitter    Google    \n"
          ],
          "name": "stdout"
        }
      ]
    },
    {
      "cell_type": "code",
      "metadata": {
        "colab": {
          "base_uri": "https://localhost:8080/"
        },
        "id": "wAxo5n8IdeSL",
        "outputId": "d5406f5e-58c3-4e6c-e0e1-bc001f4e26d9"
      },
      "source": [
        "mystack.pop()\r\n",
        "mystack.printStack()"
      ],
      "execution_count": 18,
      "outputs": [
        {
          "output_type": "stream",
          "text": [
            "Twitter    Google    \n"
          ],
          "name": "stdout"
        }
      ]
    }
  ]
}