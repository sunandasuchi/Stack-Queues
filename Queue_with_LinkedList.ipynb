{
  "nbformat": 4,
  "nbformat_minor": 0,
  "metadata": {
    "colab": {
      "name": "Queue_with_LinkedList.ipynb",
      "provenance": [],
      "authorship_tag": "ABX9TyNfEGqiFLkrSadcJB28t/r3",
      "include_colab_link": true
    },
    "kernelspec": {
      "name": "python3",
      "display_name": "Python 3"
    }
  },
  "cells": [
    {
      "cell_type": "markdown",
      "metadata": {
        "id": "view-in-github",
        "colab_type": "text"
      },
      "source": [
        "<a href=\"https://colab.research.google.com/github/sunandasuchi/Stack-Queues/blob/main/Queue_with_LinkedList.ipynb\" target=\"_parent\"><img src=\"https://colab.research.google.com/assets/colab-badge.svg\" alt=\"Open In Colab\"/></a>"
      ]
    },
    {
      "cell_type": "markdown",
      "metadata": {
        "id": "oMC6rGmZMp5a"
      },
      "source": [
        "### **Queues with Linked List**"
      ]
    },
    {
      "cell_type": "code",
      "metadata": {
        "id": "LGB7fjCaMG1b"
      },
      "source": [
        "class Node:\r\n",
        "  def __init__(self, data):\r\n",
        "    self.data = data\r\n",
        "    self.next = None"
      ],
      "execution_count": 1,
      "outputs": []
    },
    {
      "cell_type": "code",
      "metadata": {
        "id": "RXdn2VegMpTf"
      },
      "source": [
        "class Queues:\r\n",
        "  def __init__(self):\r\n",
        "    self.first = None\r\n",
        "    self.last = None\r\n",
        "    self.length = 0\r\n",
        "\r\n",
        "  def peek(self):\r\n",
        "    if self.length == 0:\r\n",
        "      print(\"Empty Queue\")\r\n",
        "      return\r\n",
        "\r\n",
        "    else:\r\n",
        "      return self.first.data\r\n",
        "\r\n",
        "  def enqueue(self, data):\r\n",
        "    node1 = Node(data)\r\n",
        "    if self.length == 0:\r\n",
        "      self.first = node1\r\n",
        "      self.last = node1\r\n",
        "      self.length += 1\r\n",
        "      return\r\n",
        "    else:\r\n",
        "      self.last.next = node1\r\n",
        "      self.last = node1\r\n",
        "      self.length += 1\r\n",
        "      return\r\n",
        "\r\n",
        "\r\n",
        "  def dequeue(self):\r\n",
        "    if self.length == 0:\r\n",
        "      print(\"Empty Queue\")\r\n",
        "      return\r\n",
        "    if self.first == self.last:\r\n",
        "      self.last = None\r\n",
        "    \r\n",
        "    self.first = self.first.next\r\n",
        "    self.length -= 1\r\n",
        "    return\r\n",
        "\r\n",
        "  def printQueue(self):\r\n",
        "    if self.first == None:\r\n",
        "      print(\"Empty Queue\")\r\n",
        "      return\r\n",
        "    else:\r\n",
        "      current = self.first\r\n",
        "      while current != None:\r\n",
        "        print(current.data, end= \"    \")\r\n",
        "        current = current.next\r\n",
        "    print()"
      ],
      "execution_count": 43,
      "outputs": []
    },
    {
      "cell_type": "code",
      "metadata": {
        "colab": {
          "base_uri": "https://localhost:8080/"
        },
        "id": "wRJcoAqcMpVT",
        "outputId": "fa6c4d0b-af27-49fc-cc91-4323a9595715"
      },
      "source": [
        "myqueue = Queues()\r\n",
        "myqueue.enqueue(\"This\")\r\n",
        "myqueue.enqueue(\"is\")\r\n",
        "myqueue.enqueue(\"a\")\r\n",
        "myqueue.enqueue(\"Queue\")\r\n",
        "\r\n",
        "myqueue.printQueue()"
      ],
      "execution_count": 44,
      "outputs": [
        {
          "output_type": "stream",
          "text": [
            "This    is    a    Queue    \n"
          ],
          "name": "stdout"
        }
      ]
    },
    {
      "cell_type": "code",
      "metadata": {
        "colab": {
          "base_uri": "https://localhost:8080/"
        },
        "id": "jOYq1BlBRLmI",
        "outputId": "bf861d2d-c4fe-4a88-d441-02896bf21e56"
      },
      "source": [
        "myqueue.dequeue()\r\n",
        "myqueue.dequeue()\r\n",
        "\r\n",
        "myqueue.printQueue()"
      ],
      "execution_count": 45,
      "outputs": [
        {
          "output_type": "stream",
          "text": [
            "a    Queue    \n"
          ],
          "name": "stdout"
        }
      ]
    },
    {
      "cell_type": "code",
      "metadata": {
        "colab": {
          "base_uri": "https://localhost:8080/",
          "height": 35
        },
        "id": "cI451wfFRZoB",
        "outputId": "22ef5f45-823a-4063-a0de-555367b740c1"
      },
      "source": [
        "myqueue.peek()"
      ],
      "execution_count": 46,
      "outputs": [
        {
          "output_type": "execute_result",
          "data": {
            "application/vnd.google.colaboratory.intrinsic+json": {
              "type": "string"
            },
            "text/plain": [
              "'a'"
            ]
          },
          "metadata": {
            "tags": []
          },
          "execution_count": 46
        }
      ]
    },
    {
      "cell_type": "code",
      "metadata": {
        "colab": {
          "base_uri": "https://localhost:8080/"
        },
        "id": "blJRu96nR2L5",
        "outputId": "9732c20f-f2aa-4853-8c79-305b472211c4"
      },
      "source": [
        "myqueue.dequeue()\r\n",
        "\r\n",
        "myqueue.printQueue()"
      ],
      "execution_count": 47,
      "outputs": [
        {
          "output_type": "stream",
          "text": [
            "Queue    \n"
          ],
          "name": "stdout"
        }
      ]
    },
    {
      "cell_type": "code",
      "metadata": {
        "colab": {
          "base_uri": "https://localhost:8080/"
        },
        "id": "_2osSS6DSAB2",
        "outputId": "86904fea-0c69-4c3c-a8b4-a410ba462899"
      },
      "source": [
        "myqueue.dequeue()\r\n",
        "\r\n",
        "myqueue.printQueue()"
      ],
      "execution_count": 48,
      "outputs": [
        {
          "output_type": "stream",
          "text": [
            "Empty Queue\n"
          ],
          "name": "stdout"
        }
      ]
    }
  ]
}