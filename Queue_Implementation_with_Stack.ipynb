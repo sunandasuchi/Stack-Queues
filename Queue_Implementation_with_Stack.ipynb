{
  "nbformat": 4,
  "nbformat_minor": 0,
  "metadata": {
    "colab": {
      "name": "Queue_Implementation_with_Stack.ipynb",
      "provenance": [],
      "authorship_tag": "ABX9TyMtsYqZQ+Y+DOaloRdB+fO5",
      "include_colab_link": true
    },
    "kernelspec": {
      "name": "python3",
      "display_name": "Python 3"
    }
  },
  "cells": [
    {
      "cell_type": "markdown",
      "metadata": {
        "id": "view-in-github",
        "colab_type": "text"
      },
      "source": [
        "<a href=\"https://colab.research.google.com/github/sunandasuchi/Stack-Queues/blob/main/Queue_Implementation_with_Stack.ipynb\" target=\"_parent\"><img src=\"https://colab.research.google.com/assets/colab-badge.svg\" alt=\"Open In Colab\"/></a>"
      ]
    },
    {
      "cell_type": "markdown",
      "metadata": {
        "id": "KadG32-MVOB-"
      },
      "source": [
        "### **Queue Implementation with Stack**"
      ]
    },
    {
      "cell_type": "code",
      "metadata": {
        "id": "YBIu127YU9Zk"
      },
      "source": [
        "class Queue:\r\n",
        "  def __init__(self):\r\n",
        "    self.s1 = []\r\n",
        "    self.s2 = []\r\n",
        "\r\n",
        "  def peek(self):\r\n",
        "    if len(self.s1) == 0:\r\n",
        "      print(\"Empty List\")\r\n",
        "      return\r\n",
        "    else:\r\n",
        "      return self.s1[len(self.s1)-1]\r\n",
        "\r\n",
        "  def enqueue(self, data):\r\n",
        "    for i in range(0, len(self.s1)):\r\n",
        "      item = self.s1.pop()\r\n",
        "      self.s2.append(item)\r\n",
        "    self.s1.append(data)\r\n",
        "    for i in range(0, len(self.s2)):\r\n",
        "      item = self.s2.pop()\r\n",
        "      self.s1.append(item)\r\n",
        "    return\r\n",
        "\r\n",
        "  def dequeue(self):\r\n",
        "    if len(self.s1) ==0:\r\n",
        "      print(\"Empty Queue\")\r\n",
        "      return\r\n",
        "    else:\r\n",
        "      return self.s1.pop()\r\n",
        "\r\n",
        "  def printQueue(self):\r\n",
        "    if len(self.s1) ==0:\r\n",
        "      print(\"Empty Queue\")\r\n",
        "      return\r\n",
        "    else:\r\n",
        "      for i in range(len(self.s1)-1, -1,-1):\r\n",
        "        print(self.s1[i], end = \"   \")\r\n",
        "    print()"
      ],
      "execution_count": 15,
      "outputs": []
    },
    {
      "cell_type": "code",
      "metadata": {
        "colab": {
          "base_uri": "https://localhost:8080/",
          "height": 35
        },
        "id": "U7GYaHJWWxUK",
        "outputId": "66934490-dbd8-411b-cf9b-23ad356620e2"
      },
      "source": [
        "myqueue = Queue()\r\n",
        "myqueue.enqueue(\"This\")\r\n",
        "myqueue.enqueue(\"is\")\r\n",
        "myqueue.enqueue(\"a\")\r\n",
        "myqueue.enqueue(\"Queue\")\r\n",
        "\r\n",
        "myqueue.peek()"
      ],
      "execution_count": 16,
      "outputs": [
        {
          "output_type": "execute_result",
          "data": {
            "application/vnd.google.colaboratory.intrinsic+json": {
              "type": "string"
            },
            "text/plain": [
              "'This'"
            ]
          },
          "metadata": {
            "tags": []
          },
          "execution_count": 16
        }
      ]
    },
    {
      "cell_type": "code",
      "metadata": {
        "colab": {
          "base_uri": "https://localhost:8080/"
        },
        "id": "YJRmW0Rre8V4",
        "outputId": "0c151871-8c2b-4c6e-f700-53f719e0a7b1"
      },
      "source": [
        "myqueue.printQueue()"
      ],
      "execution_count": 17,
      "outputs": [
        {
          "output_type": "stream",
          "text": [
            "This   is   a   Queue   \n"
          ],
          "name": "stdout"
        }
      ]
    },
    {
      "cell_type": "code",
      "metadata": {
        "colab": {
          "base_uri": "https://localhost:8080/"
        },
        "id": "wejdfSB7WxVw",
        "outputId": "a7ec63a9-5312-44ec-8a5c-91c933639d5d"
      },
      "source": [
        "myqueue.dequeue()\r\n",
        "myqueue.dequeue()\r\n",
        "\r\n",
        "myqueue.printQueue()"
      ],
      "execution_count": 18,
      "outputs": [
        {
          "output_type": "stream",
          "text": [
            "a   Queue   \n"
          ],
          "name": "stdout"
        }
      ]
    },
    {
      "cell_type": "code",
      "metadata": {
        "colab": {
          "base_uri": "https://localhost:8080/",
          "height": 35
        },
        "id": "8Nwx1pwyXkW4",
        "outputId": "22ec66c1-1b07-4f53-a63f-2a5b33ec1bcd"
      },
      "source": [
        "myqueue.peek()"
      ],
      "execution_count": 19,
      "outputs": [
        {
          "output_type": "execute_result",
          "data": {
            "application/vnd.google.colaboratory.intrinsic+json": {
              "type": "string"
            },
            "text/plain": [
              "'a'"
            ]
          },
          "metadata": {
            "tags": []
          },
          "execution_count": 19
        }
      ]
    },
    {
      "cell_type": "code",
      "metadata": {
        "colab": {
          "base_uri": "https://localhost:8080/"
        },
        "id": "wJQ9L4RoXkYV",
        "outputId": "8eb316ee-aed0-4ae5-af07-b955f3eecd62"
      },
      "source": [
        "myqueue.dequeue()\r\n",
        "\r\n",
        "myqueue.printQueue()"
      ],
      "execution_count": 20,
      "outputs": [
        {
          "output_type": "stream",
          "text": [
            "Queue   \n"
          ],
          "name": "stdout"
        }
      ]
    },
    {
      "cell_type": "code",
      "metadata": {
        "colab": {
          "base_uri": "https://localhost:8080/"
        },
        "id": "ntxeRbHcXpBB",
        "outputId": "7e0cc0b8-ce93-4236-cff7-a74625954165"
      },
      "source": [
        "myqueue.dequeue()\r\n",
        "\r\n",
        "myqueue.printQueue()"
      ],
      "execution_count": 21,
      "outputs": [
        {
          "output_type": "stream",
          "text": [
            "Empty Queue\n"
          ],
          "name": "stdout"
        }
      ]
    }
  ]
}